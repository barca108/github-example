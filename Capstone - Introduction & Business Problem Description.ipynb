{
 "cells": [
  {
   "attachments": {},
   "cell_type": "markdown",
   "metadata": {},
   "source": [
    "# Capstone Project - The Battle of New York Gyms\n",
    "\n",
    "### Author: Bara Pencikova\n",
    "### October 2019\n",
    "\n",
    "\n",
    "## INTRODUCTION:\n",
    "\n",
    "The City of New York, or simply New York (NY), is the most populous city in the United States. With an estimated 2018 population of 8,398,748 distributed over a land area of about 784 km2, New York is also the most densely populated major city in the United States. New York City has been described as the cultural, financial, and media capital of the world, and exerts a significant impact upon commerce, entertainment, research, technology, education, politics, tourism, art, fashion, and sports. (source: https://en.wikipedia.org/wiki/New_York_City)\n",
    "\n",
    "\n",
    "## BUSINESS GOAL DESCRIPTION:\n",
    "\n",
    "My client is a businessman who spends a lot of time travelling. One of his future business trips will be a long-term stay in New York. Apart from many expected hours sitting at the office my client wants also to stay in a good physical shape, so he wants me to analyze and recommend the best part of New York according to the density of fitness centers, gyms, martial arts dojos and similar facilities. My client doesn’t mind the accommodation, the priority is to have good gyms and/or fitness centers within reach."
   ]
  },
  {
   "cell_type": "markdown",
   "metadata": {},
   "source": []
  },
  {
   "cell_type": "code",
   "execution_count": null,
   "metadata": {},
   "outputs": [],
   "source": []
  }
 ],
 "metadata": {
  "kernelspec": {
   "display_name": "Python 3",
   "language": "python",
   "name": "python3"
  },
  "language_info": {
   "codemirror_mode": {
    "name": "ipython",
    "version": 3
   },
   "file_extension": ".py",
   "mimetype": "text/x-python",
   "name": "python",
   "nbconvert_exporter": "python",
   "pygments_lexer": "ipython3",
   "version": "3.6.3"
  }
 },
 "nbformat": 4,
 "nbformat_minor": 2
}
