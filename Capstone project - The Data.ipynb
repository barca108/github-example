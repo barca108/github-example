{
 "cells": [
  {
   "cell_type": "markdown",
   "metadata": {},
   "source": [
    "## THE DATA\n",
    "\n",
    "For this particular assignment I used the Fourquare API https://developer.foursquare.com/docs/resources/categories the category \"Gym / Fitness Center\" which has this ID: \"4bf58dd8d48988d175941735\".\n",
    "\n",
    "\n",
    "For clustering and segmenting I have used the dataset which contains the New York borroughs and neighborhoods with their latitudes and longitudes. The dataset can be found in the NYU Spatial Data Repository pages: https://geo.nyu.edu/catalog/nyu_2451_34572"
   ]
  },
  {
   "cell_type": "code",
   "execution_count": null,
   "metadata": {},
   "outputs": [],
   "source": []
  }
 ],
 "metadata": {
  "kernelspec": {
   "display_name": "Python 3",
   "language": "python",
   "name": "python3"
  },
  "language_info": {
   "codemirror_mode": {
    "name": "ipython",
    "version": 3
   },
   "file_extension": ".py",
   "mimetype": "text/x-python",
   "name": "python",
   "nbconvert_exporter": "python",
   "pygments_lexer": "ipython3",
   "version": "3.6.3"
  }
 },
 "nbformat": 4,
 "nbformat_minor": 2
}
